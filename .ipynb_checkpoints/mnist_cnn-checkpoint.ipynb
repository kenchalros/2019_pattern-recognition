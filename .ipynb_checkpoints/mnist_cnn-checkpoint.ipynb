{
 "cells": [
  {
   "cell_type": "code",
   "execution_count": 1,
   "metadata": {},
   "outputs": [
    {
     "name": "stderr",
     "output_type": "stream",
     "text": [
      "Using TensorFlow backend.\n"
     ]
    }
   ],
   "source": [
    "import keras\n",
    "from keras.datasets import mnist\n",
    "from keras.models import Sequential\n",
    "from keras.layers import Dense, Dropout, Flatten\n",
    "from keras.layers import Conv2D, MaxPooling2D\n",
    "from keras import backend as K\n",
    "from keras.utils import plot_model\n",
    "\n",
    "import os\n",
    "import h5py\n",
    "import pickle\n",
    "import numpy as np\n",
    "\n",
    "from dataset.mnist import load_mnist"
   ]
  },
  {
   "cell_type": "code",
   "execution_count": 2,
   "metadata": {},
   "outputs": [],
   "source": [
    "batch_size = 128\n",
    "num_classes = 10\n",
    "epochs = 50"
   ]
  },
  {
   "cell_type": "code",
   "execution_count": 3,
   "metadata": {},
   "outputs": [],
   "source": [
    "# input image dimensions\n",
    "img_rows, img_cols = 28, 28"
   ]
  },
  {
   "cell_type": "code",
   "execution_count": 4,
   "metadata": {},
   "outputs": [],
   "source": [
    "# the data, split between train and test sets\n",
    "(x_train, y_train), (x_test, y_test) = load_mnist(flatten=False)"
   ]
  },
  {
   "cell_type": "code",
   "execution_count": 5,
   "metadata": {},
   "outputs": [],
   "source": [
    "if K.image_data_format() == 'channels_first':\n",
    "    x_train = x_train.reshape(x_train.shape[0], 1, img_rows, img_cols)\n",
    "    x_test = x_test.reshape(x_test.shape[0], 1, img_rows, img_cols)\n",
    "    input_shape = (1, img_rows, img_cols)\n",
    "else:\n",
    "    x_train = x_train.reshape(x_train.shape[0], img_rows, img_cols,1)\n",
    "    x_test = x_test.reshape(x_test.shape[0], img_rows, img_cols,1)\n",
    "    input_shape = (img_rows, img_cols, 1)"
   ]
  },
  {
   "cell_type": "code",
   "execution_count": 6,
   "metadata": {},
   "outputs": [],
   "source": [
    "# convert class vectors to binary class matrices\n",
    "y_train = keras.utils.to_categorical(y_train, num_classes)\n",
    "y_test = keras.utils.to_categorical(y_test, num_classes)"
   ]
  },
  {
   "cell_type": "code",
   "execution_count": 7,
   "metadata": {},
   "outputs": [
    {
     "name": "stdout",
     "output_type": "stream",
     "text": [
      "WARNING:tensorflow:From /Users/kenmatsui/.pyenv/versions/3.6.3/lib/python3.6/site-packages/tensorflow/python/framework/op_def_library.py:263: colocate_with (from tensorflow.python.framework.ops) is deprecated and will be removed in a future version.\n",
      "Instructions for updating:\n",
      "Colocations handled automatically by placer.\n",
      "WARNING:tensorflow:From /Users/kenmatsui/.pyenv/versions/3.6.3/lib/python3.6/site-packages/keras/backend/tensorflow_backend.py:3445: calling dropout (from tensorflow.python.ops.nn_ops) with keep_prob is deprecated and will be removed in a future version.\n",
      "Instructions for updating:\n",
      "Please use `rate` instead of `keep_prob`. Rate should be set to `rate = 1 - keep_prob`.\n"
     ]
    }
   ],
   "source": [
    "model = Sequential()\n",
    "model.add(Conv2D(32, kernel_size=(3,3),\n",
    "                    activation='relu',\n",
    "                    input_shape=input_shape))\n",
    "\n",
    "model.add(Conv2D(64, (3,3), activation='relu'))\n",
    "model.add(MaxPooling2D(pool_size=(2,2)))\n",
    "model.add(Dropout(0.25))\n",
    "model.add(Flatten())\n",
    "model.add(Dense(128,activation='relu'))\n",
    "model.add(Dropout(0.5))\n",
    "model.add(Dense(num_classes, activation='softmax'))"
   ]
  },
  {
   "cell_type": "code",
   "execution_count": 8,
   "metadata": {},
   "outputs": [],
   "source": [
    "model.compile(loss=keras.losses.categorical_crossentropy,\n",
    "                optimizer=keras.optimizers.Adadelta(),\n",
    "                metrics=['accuracy'])"
   ]
  },
  {
   "cell_type": "code",
   "execution_count": null,
   "metadata": {},
   "outputs": [
    {
     "name": "stdout",
     "output_type": "stream",
     "text": [
      "WARNING:tensorflow:From /Users/kenmatsui/.pyenv/versions/3.6.3/lib/python3.6/site-packages/tensorflow/python/ops/math_ops.py:3066: to_int32 (from tensorflow.python.ops.math_ops) is deprecated and will be removed in a future version.\n",
      "Instructions for updating:\n",
      "Use tf.cast instead.\n",
      "Train on 2000 samples, validate on 10000 samples\n",
      "Epoch 1/50\n",
      "2000/2000 [==============================] - 5s 3ms/step - loss: 1.7559 - acc: 0.4200 - val_loss: 1.2762 - val_acc: 0.6563\n",
      "Epoch 2/50\n",
      "2000/2000 [==============================] - 5s 2ms/step - loss: 0.8385 - acc: 0.7295 - val_loss: 0.5898 - val_acc: 0.8040\n",
      "Epoch 3/50\n",
      "2000/2000 [==============================] - 5s 2ms/step - loss: 0.4922 - acc: 0.8405 - val_loss: 0.4008 - val_acc: 0.8746\n",
      "Epoch 4/50\n",
      "2000/2000 [==============================] - 5s 2ms/step - loss: 0.3413 - acc: 0.8900 - val_loss: 0.3499 - val_acc: 0.8936\n",
      "Epoch 5/50\n",
      "2000/2000 [==============================] - 5s 2ms/step - loss: 0.2635 - acc: 0.9205 - val_loss: 0.3629 - val_acc: 0.8849\n",
      "Epoch 6/50\n",
      "2000/2000 [==============================] - 5s 2ms/step - loss: 0.1985 - acc: 0.9405 - val_loss: 0.2373 - val_acc: 0.9274\n",
      "Epoch 7/50\n",
      "2000/2000 [==============================] - 5s 2ms/step - loss: 0.1447 - acc: 0.9505 - val_loss: 0.2426 - val_acc: 0.9277\n",
      "Epoch 8/50\n",
      "2000/2000 [==============================] - 5s 3ms/step - loss: 0.1288 - acc: 0.9600 - val_loss: 0.2467 - val_acc: 0.9254\n",
      "Epoch 9/50\n",
      "2000/2000 [==============================] - 5s 3ms/step - loss: 0.1253 - acc: 0.9555 - val_loss: 0.2456 - val_acc: 0.9281\n",
      "Epoch 10/50\n",
      "2000/2000 [==============================] - 5s 3ms/step - loss: 0.1074 - acc: 0.9615 - val_loss: 0.2471 - val_acc: 0.9250\n",
      "Epoch 11/50\n",
      "2000/2000 [==============================] - 8s 4ms/step - loss: 0.0914 - acc: 0.9690 - val_loss: 0.2094 - val_acc: 0.9384\n",
      "Epoch 12/50\n",
      "2000/2000 [==============================] - 11s 6ms/step - loss: 0.0712 - acc: 0.9765 - val_loss: 0.2076 - val_acc: 0.9409\n",
      "Epoch 13/50\n",
      "2000/2000 [==============================] - 7s 4ms/step - loss: 0.0508 - acc: 0.9885 - val_loss: 0.2050 - val_acc: 0.9419\n",
      "Epoch 14/50\n",
      "2000/2000 [==============================] - 6s 3ms/step - loss: 0.0422 - acc: 0.9875 - val_loss: 0.2266 - val_acc: 0.9393\n",
      "Epoch 15/50\n",
      "2000/2000 [==============================] - 6s 3ms/step - loss: 0.0470 - acc: 0.9855 - val_loss: 0.2060 - val_acc: 0.9441\n",
      "Epoch 16/50\n",
      "2000/2000 [==============================] - 6s 3ms/step - loss: 0.0509 - acc: 0.9855 - val_loss: 0.2138 - val_acc: 0.9414\n",
      "Epoch 17/50\n",
      "2000/2000 [==============================] - 7s 3ms/step - loss: 0.0434 - acc: 0.9840 - val_loss: 0.2081 - val_acc: 0.9437\n",
      "Epoch 18/50\n",
      "1920/2000 [===========================>..] - ETA: 0s - loss: 0.0281 - acc: 0.9917"
     ]
    }
   ],
   "source": [
    "model.fit(x_train, y_train,\n",
    "            batch_size=batch_size,\n",
    "            epochs=epochs,\n",
    "            verbose=1,\n",
    "            validation_data=(x_test,y_test))\n",
    "\n",
    "score = model.evaluate(x_test, y_test, verbose=0)"
   ]
  },
  {
   "cell_type": "code",
   "execution_count": null,
   "metadata": {},
   "outputs": [],
   "source": [
    "print('Test loss:', score[0])\n",
    "print('Test accuracy:', score[1])"
   ]
  },
  {
   "cell_type": "code",
   "execution_count": null,
   "metadata": {},
   "outputs": [],
   "source": []
  },
  {
   "cell_type": "code",
   "execution_count": null,
   "metadata": {},
   "outputs": [],
   "source": []
  },
  {
   "cell_type": "code",
   "execution_count": null,
   "metadata": {},
   "outputs": [],
   "source": []
  }
 ],
 "metadata": {
  "kernelspec": {
   "display_name": "Python 3",
   "language": "python",
   "name": "python3"
  },
  "language_info": {
   "codemirror_mode": {
    "name": "ipython",
    "version": 3
   },
   "file_extension": ".py",
   "mimetype": "text/x-python",
   "name": "python",
   "nbconvert_exporter": "python",
   "pygments_lexer": "ipython3",
   "version": "3.6.3"
  }
 },
 "nbformat": 4,
 "nbformat_minor": 2
}
